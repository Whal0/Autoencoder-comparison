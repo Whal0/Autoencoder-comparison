{
 "cells": [
  {
   "cell_type": "code",
   "execution_count": 1,
   "id": "bf7449e1",
   "metadata": {},
   "outputs": [],
   "source": [
    "import numpy as np\n",
    "import tensorflow as tf\n",
    "import matplotlib.pyplot as plt\n",
    "import time\n",
    "from tensorflow.keras.datasets import mnist, fashion_mnist\n",
    "from tensorflow.keras.models import Model\n",
    "from tensorflow.keras.layers import Layer, Input, Dense, Conv2D, Conv2DTranspose, Flatten, Reshape, Lambda\n",
    "from tensorflow.keras.metrics import MeanSquaredError\n",
    "from tensorflow.keras.losses import mse, binary_crossentropy\n",
    "from tensorflow.keras import backend as K\n",
    "from skimage.metrics import structural_similarity as ssim\n",
    "from skimage.metrics import mean_squared_error as mse\n",
    "\n",
    "from skimage.transform import resize"
   ]
  },
  {
   "cell_type": "code",
   "execution_count": 2,
   "id": "bb40be6c",
   "metadata": {},
   "outputs": [],
   "source": [
    "# Load the MNIST dataset\n",
    "(x_train, _), (x_test, _) = fashion_mnist.load_data()\n",
    "\n",
    "mnist_digits = np.concatenate([x_train, x_test], axis = 0)\n",
    "mnist_digits = np.expand_dims(mnist_digits, -1).astype(\"float32\") / 255\n",
    "\n",
    "# Normalize and reshape the input data\n",
    "x_train = x_train.astype('float32') / 255.\n",
    "x_test = x_test.astype('float32') / 255.\n",
    "x_train = np.reshape(x_train, (len(x_train), 28, 28, 1))\n",
    "x_test = np.reshape(x_test, (len(x_test), 28, 28, 1))\n",
    "latent_dim = 2"
   ]
  },
  {
   "cell_type": "code",
   "execution_count": 3,
   "id": "c8988598",
   "metadata": {},
   "outputs": [],
   "source": [
    "#Vanilla\n",
    "input_img_vae = Input(shape=(28, 28, 1))\n",
    "x = Flatten()(input_img_vae)\n",
    "encoded_vae = Dense(latent_dim)(x)\n",
    "decoded_vae = Dense(784)(encoded_vae)\n",
    "decoded_reshape_vae = Reshape((28, 28, 1))(decoded_vae)\n",
    "\n",
    "vnlae = Model(input_img_vae, decoded_reshape_vae)\n",
    "vnlae.compile(optimizer='adam', loss='binary_crossentropy')\n",
    "\n",
    "with open('modelsummary_vanilla2.txt', 'w') as f:\n",
    "    vnlae.summary(print_fn=lambda x: f.write(x + '\\n'))"
   ]
  },
  {
   "cell_type": "code",
   "execution_count": 4,
   "id": "ef5d48d4",
   "metadata": {},
   "outputs": [],
   "source": [
    "#Convolutional\n",
    "input_img_cae = Input(shape=(28, 28, 1))\n",
    "latent_dim = 32\n",
    "\n",
    "x = Conv2D(32, 3, activation='relu', padding='same')(input_img_cae)\n",
    "x = Conv2D(64, 3, activation='relu', strides=(2, 2), padding='same')(x)\n",
    "x = Conv2D(64, 3, activation='relu', padding='same')(x)\n",
    "x = Conv2D(64, 3, activation='relu', padding='same')(x)\n",
    "shape_before_flattening_cae = tf.keras.backend.int_shape(x)\n",
    "x = Flatten()(x)\n",
    "encoded_cae = Dense(latent_dim)(x)\n",
    "x = Dense(np.prod(shape_before_flattening_cae[1:]), activation='relu')(encoded_cae)\n",
    "x = Reshape(shape_before_flattening_cae[1:])(x)\n",
    "x = Conv2DTranspose(32, 3, activation='relu', strides=(2, 2), padding='same')(x)\n",
    "decoded_cae = Conv2D(1, 3, activation='sigmoid', padding='same')(x)\n",
    "\n",
    "cae = Model(input_img_cae, decoded_cae)\n",
    "cae.compile(optimizer='adam', loss='binary_crossentropy')\n",
    "\n",
    "with open('modelsummary_conv2.txt', 'w') as f:\n",
    "    cae.summary(print_fn=lambda x: f.write(x + '\\n'))"
   ]
  },
  {
   "cell_type": "code",
   "execution_count": 5,
   "id": "6f0ecab9",
   "metadata": {},
   "outputs": [],
   "source": [
    "#VAE\n",
    "class Sampling(Layer):\n",
    "    def call(self, inputs):\n",
    "        z_mean, z_log_var = inputs\n",
    "        batch = tf.shape(z_mean)[0]\n",
    "        dim = tf.shape(z_mean)[1]\n",
    "        epsilon = K.random_normal(shape =(batch, dim))\n",
    "        return z_mean + tf.exp(0.5 * z_log_var) * epsilon\n",
    "latent_dim = 2\n",
    " \n",
    "encoder_inputs = Input(shape =(28, 28, 1))\n",
    "encoder = Conv2D(32, 3, activation =\"relu\", strides = 2, padding =\"same\")(encoder_inputs)\n",
    "encoder = Conv2D(64, 3, activation =\"relu\", strides = 2, padding =\"same\")(encoder)\n",
    "encoder = Flatten()(encoder)\n",
    "x = Dense(16, activation =\"relu\")(encoder)\n",
    "z_mean = Dense(latent_dim, name =\"z_mean\")(encoder)\n",
    "z_log_var = Dense(latent_dim, name =\"z_log_var\")(encoder)\n",
    "z = Sampling()([z_mean, z_log_var])\n",
    "encoder = Model(encoder_inputs, [z_mean, z_log_var, z], name =\"encoder\")\n",
    "\n",
    "latent_inputs = Input(shape =(latent_dim, ))\n",
    "decoder = Dense(7 * 7 * 64, activation =\"relu\")(latent_inputs)\n",
    "decoder = Reshape((7, 7, 64))(decoder)\n",
    "decoder = Conv2DTranspose(64, 3, activation =\"relu\", strides = 2, padding =\"same\")(decoder)\n",
    "decoder = Conv2DTranspose(32, 3, activation =\"relu\", strides = 2, padding =\"same\")(decoder)\n",
    "decoder_outputs = Conv2DTranspose(1, 3, activation =\"sigmoid\", padding =\"same\")(decoder)\n",
    "decoder = Model(latent_inputs, decoder_outputs, name =\"decoder\")\n",
    "\n",
    "class VAE(Model):\n",
    "    def __init__(self, encoder, decoder, **kwargs):\n",
    "        super(VAE, self).__init__(**kwargs)\n",
    "        self.encoder = encoder\n",
    "        self.decoder = decoder\n",
    "\n",
    "    def train_step(self, data):\n",
    "        if isinstance(data, tuple):\n",
    "            data = data[0]\n",
    "        with tf.GradientTape() as tape:\n",
    "            z_mean, z_log_var, z = encoder(data)\n",
    "            reconstruction = decoder(z)\n",
    "            reconstruction_loss = tf.reduce_mean(\n",
    "                binary_crossentropy(data, reconstruction)\n",
    "            )\n",
    "            reconstruction_loss *= 28 * 28\n",
    "            kl_loss = 1 + z_log_var - tf.square(z_mean) - tf.exp(z_log_var)\n",
    "            kl_loss = tf.reduce_mean(kl_loss)\n",
    "            kl_loss *= -0.5\n",
    "            total_loss = reconstruction_loss + kl_loss\n",
    "        grads = tape.gradient(total_loss, self.trainable_weights)\n",
    "        self.optimizer.apply_gradients(zip(grads, self.trainable_weights))\n",
    "        return {\n",
    "            \"loss\": total_loss,\n",
    "            \"reconstruction_loss\": reconstruction_loss,\n",
    "            \"kl_loss\": kl_loss,\n",
    "        }\n",
    "vae = VAE(encoder, decoder)\n",
    "vae.compile(optimizer ='adam')\n",
    "\n"
   ]
  },
  {
   "cell_type": "code",
   "execution_count": 6,
   "id": "4d9a35a4",
   "metadata": {},
   "outputs": [],
   "source": [
    "#Sparse \n",
    "input_img = Input(shape=(28, 28, 1))\n",
    "x = Flatten()(input_img)\n",
    "encoded = Dense(128, activation='relu', activity_regularizer=tf.keras.regularizers.l1(10e-5))(x)\n",
    "decoded = Dense(784, activation='sigmoid')(encoded)\n",
    "decoded = Reshape((28, 28, 1))(decoded)\n",
    "\n",
    "sae = Model(input_img, decoded)\n",
    "sae.compile(optimizer='adam', loss='binary_crossentropy')\n",
    "\n",
    "\n",
    "with open('modelsummary_sparse2.txt', 'w') as f:\n",
    "    sae.summary(print_fn=lambda x: f.write(x + '\\n'))"
   ]
  },
  {
   "cell_type": "code",
   "execution_count": 7,
   "id": "f1d0f4b1",
   "metadata": {},
   "outputs": [],
   "source": [
    "#Denoising \n",
    "input_img = Input(shape=(28, 28, 1))\n",
    "noisy_img = input_img + 0.5 * K.random_normal(shape=(28, 28, 1))\n",
    "x = Conv2D(32, (3, 3), activation='relu', padding='same')(noisy_img)\n",
    "x = Conv2D(64, (3, 3), activation='relu', padding='same')(x)\n",
    "decoded = Conv2D(1, (3, 3), activation='sigmoid', padding='same')(x)\n",
    "\n",
    "dae = Model(input_img, decoded)\n",
    "dae.compile(optimizer='adam', loss='binary_crossentropy')\n",
    "with open('modelsummary_deno2.txt', 'w') as f:\n",
    "    dae.summary(print_fn=lambda x: f.write(x + '\\n'))"
   ]
  },
  {
   "cell_type": "code",
   "execution_count": 8,
   "id": "a40ab71f",
   "metadata": {},
   "outputs": [],
   "source": [
    "# #Define Contractive Autoencoder\n",
    "# input_shape = (28, 28)\n",
    "# latent_dim = 32\n",
    "# lmbda = 0.0001\n",
    "\n",
    "# # Encoder\n",
    "# inputs = Input(shape=input_shape)\n",
    "# flatten = Flatten()(inputs)\n",
    "# encoded = Dense(latent_dim, activation='relu')(flatten)\n",
    "\n",
    "# # Decoder\n",
    "# decoded = Dense(np.prod(input_shape), activation='sigmoid')(encoded)\n",
    "# reshape = Reshape(input_shape)(decoded)\n",
    "\n",
    "# # Autoencoder\n",
    "# ctae = Model(inputs, reshape)\n",
    "\n",
    "# # Create a penalty term for the contractive loss\n",
    "# def contractive_loss(y_true, y_pred):\n",
    "#     mse_loss = mse(y_true, y_pred)\n",
    "#     hidden = encoded\n",
    "#     grads = K.gradients(mse_loss, hidden)[0]\n",
    "#     penalty = K.sum(K.square(grads), axis=1)\n",
    "#     return mse_loss + lmbda * penalty\n",
    "\n",
    "# # Compile and train Contractive Autoencoder\n",
    "# ctae.compile(optimizer='adam', loss=contractive_loss)\n",
    "\n",
    "# with open('modelsummary_contra2.txt', 'w') as f:\n",
    "#     ctae.summary(print_fn=lambda x: f.write(x + '\\n'))"
   ]
  },
  {
   "cell_type": "code",
   "execution_count": 9,
   "id": "b744cf5d",
   "metadata": {},
   "outputs": [],
   "source": [
    "# Train \n",
    "epochs = 1\n",
    "batch_size = 64"
   ]
  },
  {
   "cell_type": "code",
   "execution_count": 10,
   "id": "508dc8f7",
   "metadata": {},
   "outputs": [
    {
     "name": "stdout",
     "output_type": "stream",
     "text": [
      "938/938 [==============================] - 3s 2ms/step - loss: 1.3349 - val_loss: 1.2057\n",
      "Training time: 2.768667221069336 s\n"
     ]
    }
   ],
   "source": [
    "t1 = time.time()\n",
    "vnlae.fit(x_train, x_train, epochs=epochs, batch_size=batch_size, shuffle=True, validation_data=(x_test, x_test))\n",
    "print(\"Training time:\", time.time()-t1, \"s\")"
   ]
  },
  {
   "cell_type": "code",
   "execution_count": 11,
   "id": "6f14d6f6",
   "metadata": {},
   "outputs": [
    {
     "name": "stdout",
     "output_type": "stream",
     "text": [
      "1094/1094 [==============================] - 39s 34ms/step - loss: 289.3323 - reconstruction_loss: 286.0286 - kl_loss: 3.3037\n",
      "Training time: 38.966840505599976 s\n"
     ]
    }
   ],
   "source": [
    "t2 = time.time()\n",
    "vae.fit(mnist_digits, epochs=epochs, batch_size=batch_size)\n",
    "print(\"Training time:\", time.time()-t2, \"s\")\n"
   ]
  },
  {
   "cell_type": "code",
   "execution_count": 12,
   "id": "dff10fc0",
   "metadata": {},
   "outputs": [
    {
     "name": "stdout",
     "output_type": "stream",
     "text": [
      "938/938 [==============================] - 109s 115ms/step - loss: 0.3010 - val_loss: 0.2744\n",
      "Training time: 109.01850128173828 s\n"
     ]
    }
   ],
   "source": [
    "t3 = time.time()\n",
    "cae.fit(x_train, x_train, epochs=epochs, batch_size=batch_size, shuffle=True, validation_data=(x_test, x_test))\n",
    "print(\"Training time:\", time.time()-t3, \"s\")"
   ]
  },
  {
   "cell_type": "code",
   "execution_count": 13,
   "id": "36d7479d",
   "metadata": {},
   "outputs": [
    {
     "name": "stdout",
     "output_type": "stream",
     "text": [
      "938/938 [==============================] - 4s 3ms/step - loss: 0.3284 - val_loss: 0.2951\n",
      "Training time: 3.914250612258911 s\n"
     ]
    }
   ],
   "source": [
    "t4 = time.time()\n",
    "sae.fit(x_train, x_train, epochs=epochs, batch_size=batch_size, shuffle=True, validation_data=(x_test, x_test))\n",
    "print(\"Training time:\", time.time()-t4, \"s\")"
   ]
  },
  {
   "cell_type": "code",
   "execution_count": 14,
   "id": "f9ae4aef",
   "metadata": {
    "scrolled": true
   },
   "outputs": [
    {
     "name": "stdout",
     "output_type": "stream",
     "text": [
      "938/938 [==============================] - 90s 95ms/step - loss: 0.3019 - val_loss: 0.2769\n",
      "Training time: 89.87606048583984 s\n"
     ]
    }
   ],
   "source": [
    "t5 = time.time()\n",
    "dae.fit(x_train, x_train, epochs=epochs, batch_size=batch_size, shuffle=True, validation_data=(x_test, x_test))\n",
    "print(\"Training time:\", time.time()-t5, \"s\")"
   ]
  },
  {
   "cell_type": "code",
   "execution_count": 15,
   "id": "4d7880f5",
   "metadata": {},
   "outputs": [
    {
     "name": "stdout",
     "output_type": "stream",
     "text": [
      "0.3504679371539039\n"
     ]
    }
   ],
   "source": [
    "y_true = np.random.randint(0, 2, size=(2, 3))\n",
    "y_pred = np.random.random(size=(2, 3))\n",
    "loss = mse(y_true, y_pred)\n",
    "print(loss)"
   ]
  },
  {
   "cell_type": "code",
   "execution_count": 16,
   "id": "3c22ac3f",
   "metadata": {
    "scrolled": false
   },
   "outputs": [
    {
     "name": "stdout",
     "output_type": "stream",
     "text": [
      "313/313 [==============================] - 0s 735us/step\n",
      "MSE: 0.18672014039708415\n",
      "SSIM: 0.084039696\n",
      "313/313 [==============================] - 5s 14ms/step\n",
      "MSE: 0.010363760446596575\n",
      "SSIM: 0.76713854\n",
      "313/313 [==============================] - 0s 1ms/step\n",
      "MSE: 0.013642646413241045\n",
      "SSIM: 0.69706494\n",
      "313/313 [==============================] - 3s 10ms/step\n",
      "MSE: 0.009538793940763774\n",
      "SSIM: 0.75410175\n"
     ]
    }
   ],
   "source": [
    "mscores = []\n",
    "sscores = []\n",
    "for autoencoder in [vnlae,cae,sae,dae]:\n",
    "    predicted_outputs = autoencoder.predict(x_test)\n",
    "\n",
    "    msea = mse(x_test, predicted_outputs)\n",
    "    print(\"MSE:\", msea)\n",
    "    \n",
    "    ssima = np.mean([ssim(img1, img2, data_range=1, channel_axis = 2) for img1, img2 in zip(x_test, predicted_outputs)])\n",
    "    print(\"SSIM:\", ssima)\n",
    "    "
   ]
  },
  {
   "cell_type": "code",
   "execution_count": 17,
   "id": "bb612be2",
   "metadata": {},
   "outputs": [],
   "source": [
    "import seaborn as sns\n",
    "sns.set_theme()"
   ]
  },
  {
   "cell_type": "code",
   "execution_count": 18,
   "id": "afdc050e",
   "metadata": {},
   "outputs": [
    {
     "name": "stdout",
     "output_type": "stream",
     "text": [
      "313/313 [==============================] - 0s 834us/step\n",
      "313/313 [==============================] - 4s 14ms/step\n",
      "313/313 [==============================] - 4s 12ms/step\n",
      "313/313 [==============================] - 0s 1ms/step\n"
     ]
    },
    {
     "data": {
      "image/png": "[encoded data removed]",
      "text/plain": [
       "<Figure size 720x720 with 15 Axes>"
      ]
     },
     "metadata": {},
     "output_type": "display_data"
    }
   ],
   "source": [
    "\n",
    "reconstructed_images = []\n",
    "autoencoders = [vnlae,cae,dae,sae]\n",
    "reconstructed_images.append(x_test[:5])\n",
    "\n",
    "for autoencoder in autoencoders:\n",
    "    reconstructed = autoencoder.predict(x_test)\n",
    "    reconstructed_images.append(reconstructed[:5])  # Take the first 5 \n",
    "\n",
    "# Plot the reconstructed images\n",
    "fig, axes = plt.subplots(nrows=3, ncols=5, figsize=(10, 10))\n",
    "\n",
    "for i in range(3):\n",
    "    for j in range(5):\n",
    "        axes[i, j].imshow(reconstructed_images[j][i].reshape(28, 28), cmap='gray')\n",
    "        axes[i, j].axis('off')\n",
    "\n",
    "axes[0, 0].set_title(\"Oryginał\")\n",
    "axes[0, 1].set_title(\"Zwykły\")\n",
    "axes[0, 2].set_title(\"CAE\")\n",
    "axes[0, 3].set_title(\"Odszumiający\")\n",
    "axes[0, 4].set_title(\"Rzadki\")\n",
    "\n",
    "plt.tight_layout()\n",
    "plt.savefig('comparison_fmnist.png', dpi = 300)\n",
    "plt.show()"
   ]
  }
 ],
 "metadata": {
  "kernelspec": {
   "display_name": "Python 3",
   "language": "python",
   "name": "python3"
  },
  "language_info": {
   "codemirror_mode": {
    "name": "ipython",
    "version": 3
   },
   "file_extension": ".py",
   "mimetype": "text/x-python",
   "name": "python",
   "nbconvert_exporter": "python",
   "pygments_lexer": "ipython3",
   "version": "3.9.2"
  }
 },
 "nbformat": 4,
 "nbformat_minor": 5
}
