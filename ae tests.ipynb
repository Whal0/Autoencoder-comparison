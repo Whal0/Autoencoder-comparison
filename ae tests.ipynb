{
 "cells": [
  {
   "cell_type": "code",
   "execution_count": 1,
   "id": "6d02b7c1",
   "metadata": {},
   "outputs": [],
   "source": [
    "from keras.datasets import mnist\n",
    "import numpy as np"
   ]
  },
  {
   "cell_type": "code",
   "execution_count": 2,
   "id": "b9141459",
   "metadata": {},
   "outputs": [],
   "source": [
    "(x_train, y_train), (x_test, y_test) = mnist.load_data()"
   ]
  },
  {
   "cell_type": "code",
   "execution_count": 4,
   "id": "aa320a28",
   "metadata": {},
   "outputs": [],
   "source": [
    "# we will normalize all values between 0 and 1 and we will flatten the 28x28 images into vecto\n",
    "#rs of size 784\n",
    "x_train = x_train.astype('float32') / 255.\n",
    "x_train = x_train.reshape((len(x_train), np.prod(x_train.shape[1:])))\n",
    "x_test = x_test.astype(\"float32\")/255.\n",
    "x_test = x_test.reshape((len(x_test), np.prod(x_test.shape[1:])))"
   ]
  },
  {
   "cell_type": "code",
   "execution_count": 5,
   "id": "1ba08576",
   "metadata": {},
   "outputs": [
    {
     "name": "stdout",
     "output_type": "stream",
     "text": [
      "(60000, 784)\n",
      "(10000, 784)\n"
     ]
    }
   ],
   "source": [
    "print(x_train.shape)\n",
    "print(x_test.shape)"
   ]
  },
  {
   "cell_type": "code",
   "execution_count": 6,
   "id": "9aa03c98",
   "metadata": {},
   "outputs": [],
   "source": [
    "import keras\n",
    "from keras import layers\n",
    "# This is the size of our encoded representations\n",
    "encoding_dim = 32 # 32 floats -> compression of factor 24.5, assuming the input is 784 floats\n",
    "# This is our input image\n",
    "input_img = keras.Input(shape=(784,))\n",
    "# \"encoded\" is the encoded representation of the input\n",
    "encoded = layers.Dense(encoding_dim, activation='relu')(input_img)\n",
    "# \"decoded\" is the lossy reconstruction of the input\n",
    "decoded = layers.Dense(784, activation='sigmoid')(encoded)\n",
    "# This model maps an input to its reconstruction\n",
    "autoencoder = keras.Model(input_img, decoded)"
   ]
  },
  {
   "cell_type": "code",
   "execution_count": 8,
   "id": "e10ac40c",
   "metadata": {},
   "outputs": [],
   "source": [
    "# this model maps an input to its encoded representation\n",
    "encoder = keras.Model(input_img, encoded)\n",
    "# create a placeholder for an encoded (32-dimensional) input\n",
    "encoded_input = keras.Input(shape=(encoding_dim,))\n",
    "# retrieve the last layer of the autoencoder model\n",
    "decoder_layer = autoencoder.layers[-1]\n",
    "# create the decoder model\n",
    "decoder = keras.Model(encoded_input, decoder_layer(encoded_input))"
   ]
  },
  {
   "cell_type": "code",
   "execution_count": 9,
   "id": "09df6b7e",
   "metadata": {},
   "outputs": [],
   "source": [
    "autoencoder.compile(optimizer='adam',\n",
    "loss='binary_crossentropy')"
   ]
  },
  {
   "cell_type": "code",
   "execution_count": 14,
   "id": "de91ef62",
   "metadata": {},
   "outputs": [
    {
     "name": "stdout",
     "output_type": "stream",
     "text": [
      "Epoch 1/50\n",
      "235/235 [==============================] - 1s 6ms/step - loss: 0.0927 - val_loss: 0.0915\n",
      "Epoch 2/50\n",
      "235/235 [==============================] - 1s 5ms/step - loss: 0.0927 - val_loss: 0.0915\n",
      "Epoch 3/50\n",
      "235/235 [==============================] - 1s 5ms/step - loss: 0.0927 - val_loss: 0.0915\n",
      "Epoch 4/50\n",
      "235/235 [==============================] - 2s 7ms/step - loss: 0.0927 - val_loss: 0.0915\n",
      "Epoch 5/50\n",
      "235/235 [==============================] - 2s 7ms/step - loss: 0.0927 - val_loss: 0.0915\n",
      "Epoch 6/50\n",
      "235/235 [==============================] - 2s 8ms/step - loss: 0.0927 - val_loss: 0.0916\n",
      "Epoch 7/50\n",
      "235/235 [==============================] - 2s 7ms/step - loss: 0.0927 - val_loss: 0.0915\n",
      "Epoch 8/50\n",
      "235/235 [==============================] - 1s 5ms/step - loss: 0.0927 - val_loss: 0.0914\n",
      "Epoch 9/50\n",
      "235/235 [==============================] - 1s 5ms/step - loss: 0.0927 - val_loss: 0.0914\n",
      "Epoch 10/50\n",
      "235/235 [==============================] - 1s 5ms/step - loss: 0.0926 - val_loss: 0.0915\n",
      "Epoch 11/50\n",
      "235/235 [==============================] - 2s 8ms/step - loss: 0.0926 - val_loss: 0.0915\n",
      "Epoch 12/50\n",
      "235/235 [==============================] - 2s 8ms/step - loss: 0.0926 - val_loss: 0.0915\n",
      "Epoch 13/50\n",
      "235/235 [==============================] - 2s 9ms/step - loss: 0.0926 - val_loss: 0.0915\n",
      "Epoch 14/50\n",
      "235/235 [==============================] - 1s 5ms/step - loss: 0.0926 - val_loss: 0.0915\n",
      "Epoch 15/50\n",
      "235/235 [==============================] - 1s 5ms/step - loss: 0.0926 - val_loss: 0.0915\n",
      "Epoch 16/50\n",
      "235/235 [==============================] - 1s 4ms/step - loss: 0.0926 - val_loss: 0.0914\n",
      "Epoch 17/50\n",
      "235/235 [==============================] - 1s 6ms/step - loss: 0.0926 - val_loss: 0.0914\n",
      "Epoch 18/50\n",
      "235/235 [==============================] - 2s 7ms/step - loss: 0.0926 - val_loss: 0.0915\n",
      "Epoch 19/50\n",
      "235/235 [==============================] - 2s 7ms/step - loss: 0.0926 - val_loss: 0.0914\n",
      "Epoch 20/50\n",
      "235/235 [==============================] - 2s 8ms/step - loss: 0.0926 - val_loss: 0.0914\n",
      "Epoch 21/50\n",
      "235/235 [==============================] - 1s 4ms/step - loss: 0.0925 - val_loss: 0.0914\n",
      "Epoch 22/50\n",
      "235/235 [==============================] - 1s 4ms/step - loss: 0.0926 - val_loss: 0.0915\n",
      "Epoch 23/50\n",
      "235/235 [==============================] - 1s 5ms/step - loss: 0.0925 - val_loss: 0.0914\n",
      "Epoch 24/50\n",
      "235/235 [==============================] - 1s 6ms/step - loss: 0.0925 - val_loss: 0.0913\n",
      "Epoch 25/50\n",
      "235/235 [==============================] - 1s 6ms/step - loss: 0.0925 - val_loss: 0.0914\n",
      "Epoch 26/50\n",
      "235/235 [==============================] - 2s 6ms/step - loss: 0.0925 - val_loss: 0.0914\n",
      "Epoch 27/50\n",
      "235/235 [==============================] - 2s 10ms/step - loss: 0.0925 - val_loss: 0.0913\n",
      "Epoch 28/50\n",
      "235/235 [==============================] - 1s 5ms/step - loss: 0.0925 - val_loss: 0.0913\n",
      "Epoch 29/50\n",
      "235/235 [==============================] - 1s 4ms/step - loss: 0.0925 - val_loss: 0.0914\n",
      "Epoch 30/50\n",
      "235/235 [==============================] - 1s 5ms/step - loss: 0.0925 - val_loss: 0.0914\n",
      "Epoch 31/50\n",
      "235/235 [==============================] - 1s 5ms/step - loss: 0.0925 - val_loss: 0.0914\n",
      "Epoch 32/50\n",
      "235/235 [==============================] - 1s 6ms/step - loss: 0.0925 - val_loss: 0.0913\n",
      "Epoch 33/50\n",
      "235/235 [==============================] - 2s 8ms/step - loss: 0.0925 - val_loss: 0.0913\n",
      "Epoch 34/50\n",
      "235/235 [==============================] - 2s 10ms/step - loss: 0.0925 - val_loss: 0.0913\n",
      "Epoch 35/50\n",
      "235/235 [==============================] - 1s 5ms/step - loss: 0.0925 - val_loss: 0.0913\n",
      "Epoch 36/50\n",
      "235/235 [==============================] - 1s 5ms/step - loss: 0.0924 - val_loss: 0.0913\n",
      "Epoch 37/50\n",
      "235/235 [==============================] - 1s 6ms/step - loss: 0.0924 - val_loss: 0.0913\n",
      "Epoch 38/50\n",
      "235/235 [==============================] - 1s 5ms/step - loss: 0.0924 - val_loss: 0.0914\n",
      "Epoch 39/50\n",
      "235/235 [==============================] - 1s 5ms/step - loss: 0.0924 - val_loss: 0.0913\n",
      "Epoch 40/50\n",
      "235/235 [==============================] - 2s 8ms/step - loss: 0.0924 - val_loss: 0.0913\n",
      "Epoch 41/50\n",
      "235/235 [==============================] - 2s 8ms/step - loss: 0.0924 - val_loss: 0.0913\n",
      "Epoch 42/50\n",
      "235/235 [==============================] - 1s 6ms/step - loss: 0.0924 - val_loss: 0.0914\n",
      "Epoch 43/50\n",
      "235/235 [==============================] - 1s 5ms/step - loss: 0.0924 - val_loss: 0.0913\n",
      "Epoch 44/50\n",
      "235/235 [==============================] - 1s 6ms/step - loss: 0.0924 - val_loss: 0.0914\n",
      "Epoch 45/50\n",
      "235/235 [==============================] - 1s 5ms/step - loss: 0.0924 - val_loss: 0.0913\n",
      "Epoch 46/50\n",
      "235/235 [==============================] - 1s 5ms/step - loss: 0.0924 - val_loss: 0.0913\n",
      "Epoch 47/50\n",
      "235/235 [==============================] - 2s 9ms/step - loss: 0.0924 - val_loss: 0.0913\n",
      "Epoch 48/50\n",
      "235/235 [==============================] - 2s 7ms/step - loss: 0.0924 - val_loss: 0.0913\n",
      "Epoch 49/50\n",
      "235/235 [==============================] - 1s 6ms/step - loss: 0.0924 - val_loss: 0.0912\n",
      "Epoch 50/50\n",
      "235/235 [==============================] - 1s 6ms/step - loss: 0.0924 - val_loss: 0.0913\n",
      "313/313 [==============================] - 0s 1ms/step\n",
      "313/313 [==============================] - 0s 935us/step\n"
     ]
    }
   ],
   "source": [
    "autoencoder.fit(x_train, x_train, epochs = 50, batch_size=256, shuffle = True ,\n",
    "validation_data=(x_test, x_test))\n",
    "# Encode and decode some digits\n",
    "# Note that we take them from the *test* set\n",
    "encoded_imgs = encoder.predict(x_test)\n",
    "decoded_imgs = decoder.predict(encoded_imgs)"
   ]
  },
  {
   "cell_type": "code",
   "execution_count": 15,
   "id": "7f826510",
   "metadata": {},
   "outputs": [
    {
     "data": {
      "image/png": "[encoded data removed]",
      "text/plain": [
       "<Figure size 1440x288 with 18 Axes>"
      ]
     },
     "metadata": {
      "needs_background": "light"
     },
     "output_type": "display_data"
    }
   ],
   "source": [
    "import matplotlib.pyplot as plt\n",
    "n = 10 # how many digits we will display\n",
    "plt.figure(figsize=(20, 4))\n",
    "for i in range(1, n):\n",
    "    # display original\n",
    "    ax = plt.subplot(2, n, i)\n",
    "    plt.imshow(x_test[i].reshape(28, 28))\n",
    "    plt.gray()\n",
    "    ax.get_xaxis().set_visible(False)\n",
    "    ax.get_yaxis().set_visible(False)\n",
    "    # display reconstruction\n",
    "    ax = plt.subplot(2, n, i + n)\n",
    "    plt.imshow(decoded_imgs[i].reshape(28, 28))\n",
    "    plt.gray()\n",
    "    ax.get_xaxis().set_visible(False)\n",
    "    ax.get_yaxis().set_visible(False)\n",
    "plt.show()"
   ]
  },
  {
   "cell_type": "code",
   "execution_count": 16,
   "id": "9a7670f8",
   "metadata": {},
   "outputs": [],
   "source": [
    "(x_train, y_train), (x_test, y_test) = mnist.load_data()\n",
    "x_train = x_train.astype('float32') / 255.\n",
    "x_train = x_train.reshape((len(x_train), np.prod(x_train.shape[1:])))\n",
    "x_test = x_test.astype(\"float32\")/255.\n",
    "x_test = x_test.reshape((len(x_test), np.prod(x_test.shape[1:])))"
   ]
  },
  {
   "cell_type": "code",
   "execution_count": 17,
   "id": "868f9393",
   "metadata": {},
   "outputs": [],
   "source": [
    "import keras\n",
    "from keras import layers\n",
    "input_img = keras.Input(shape=(28, 28, 1))\n",
    "x = layers.Conv2D(16, (3, 3), activation='relu', padding='same')(input_img)\n",
    "x = layers.MaxPooling2D((2, 2), padding='same')(x)\n",
    "x = layers.Conv2D(8, (3, 3), activation='relu', padding='same')(x)\n",
    "x = layers.MaxPooling2D((2, 2), padding='same')(x)\n",
    "x = layers.Conv2D(8, (3, 3), activation='relu', padding='same')(x)\n",
    "encoded = layers.MaxPooling2D((2, 2), padding='same')(x)\n",
    "# at this point the representation is (4, 4, 8) i.e. 128-dimensional\n",
    "x = layers.Conv2D(8, (3, 3), activation='relu', padding='same')(encoded)\n",
    "x = layers.UpSampling2D((2, 2))(x)\n",
    "x = layers.Conv2D(8, (3, 3), activation='relu', padding='same')(x)\n",
    "x = layers.UpSampling2D((2, 2))(x)\n",
    "x = layers.Conv2D(16, (3, 3), activation='relu')(x)\n",
    "x = layers.UpSampling2D((2, 2))(x)\n",
    "decoded = layers.Conv2D(1, (3, 3), activation='sigmoid', padding='same')(x)"
   ]
  },
  {
   "cell_type": "code",
   "execution_count": 18,
   "id": "e9f2564d",
   "metadata": {},
   "outputs": [],
   "source": [
    "autoencoder.compile(optimizer='adam',\n",
    "loss='binary_crossentropy')"
   ]
  },
  {
   "cell_type": "code",
   "execution_count": 19,
   "id": "542124eb",
   "metadata": {},
   "outputs": [
    {
     "name": "stdout",
     "output_type": "stream",
     "text": [
      "Epoch 1/50\n",
      "235/235 [==============================] - 3s 9ms/step - loss: 0.0924 - val_loss: 0.0913\n",
      "Epoch 2/50\n",
      "235/235 [==============================] - 1s 5ms/step - loss: 0.0924 - val_loss: 0.0913\n",
      "Epoch 3/50\n",
      "235/235 [==============================] - 1s 4ms/step - loss: 0.0924 - val_loss: 0.0912\n",
      "Epoch 4/50\n",
      "235/235 [==============================] - 1s 5ms/step - loss: 0.0924 - val_loss: 0.0912\n",
      "Epoch 5/50\n",
      "235/235 [==============================] - 1s 4ms/step - loss: 0.0924 - val_loss: 0.0912\n",
      "Epoch 6/50\n",
      "235/235 [==============================] - 1s 4ms/step - loss: 0.0923 - val_loss: 0.0913\n",
      "Epoch 7/50\n",
      "235/235 [==============================] - 1s 6ms/step - loss: 0.0923 - val_loss: 0.0912\n",
      "Epoch 8/50\n",
      "235/235 [==============================] - 2s 8ms/step - loss: 0.0923 - val_loss: 0.0912\n",
      "Epoch 9/50\n",
      "235/235 [==============================] - 2s 7ms/step - loss: 0.0923 - val_loss: 0.0912\n",
      "Epoch 10/50\n",
      "235/235 [==============================] - 1s 5ms/step - loss: 0.0923 - val_loss: 0.0912\n",
      "Epoch 11/50\n",
      "235/235 [==============================] - 1s 5ms/step - loss: 0.0923 - val_loss: 0.0912\n",
      "Epoch 12/50\n",
      "235/235 [==============================] - 1s 4ms/step - loss: 0.0923 - val_loss: 0.0912\n",
      "Epoch 13/50\n",
      "235/235 [==============================] - 1s 4ms/step - loss: 0.0923 - val_loss: 0.0913\n",
      "Epoch 14/50\n",
      "235/235 [==============================] - 1s 5ms/step - loss: 0.0923 - val_loss: 0.0912\n",
      "Epoch 15/50\n",
      "235/235 [==============================] - 2s 8ms/step - loss: 0.0923 - val_loss: 0.0913\n",
      "Epoch 16/50\n",
      "235/235 [==============================] - 2s 7ms/step - loss: 0.0923 - val_loss: 0.0912\n",
      "Epoch 17/50\n",
      "235/235 [==============================] - 2s 7ms/step - loss: 0.0923 - val_loss: 0.0912\n",
      "Epoch 18/50\n",
      "235/235 [==============================] - 1s 5ms/step - loss: 0.0923 - val_loss: 0.0912\n",
      "Epoch 19/50\n",
      "235/235 [==============================] - 1s 5ms/step - loss: 0.0923 - val_loss: 0.0912\n",
      "Epoch 20/50\n",
      "235/235 [==============================] - 1s 5ms/step - loss: 0.0923 - val_loss: 0.0912\n",
      "Epoch 21/50\n",
      "235/235 [==============================] - 2s 8ms/step - loss: 0.0923 - val_loss: 0.0912\n",
      "Epoch 22/50\n",
      "235/235 [==============================] - 2s 10ms/step - loss: 0.0923 - val_loss: 0.0912\n",
      "Epoch 23/50\n",
      "235/235 [==============================] - 2s 9ms/step - loss: 0.0923 - val_loss: 0.0912\n",
      "Epoch 24/50\n",
      "235/235 [==============================] - 2s 7ms/step - loss: 0.0923 - val_loss: 0.0912\n",
      "Epoch 25/50\n",
      "235/235 [==============================] - 1s 6ms/step - loss: 0.0923 - val_loss: 0.0912\n",
      "Epoch 26/50\n",
      "235/235 [==============================] - 1s 5ms/step - loss: 0.0923 - val_loss: 0.0912\n",
      "Epoch 27/50\n",
      "235/235 [==============================] - 2s 8ms/step - loss: 0.0923 - val_loss: 0.0913\n",
      "Epoch 28/50\n",
      "235/235 [==============================] - 2s 8ms/step - loss: 0.0922 - val_loss: 0.0912\n",
      "Epoch 29/50\n",
      "235/235 [==============================] - 2s 8ms/step - loss: 0.0922 - val_loss: 0.0912\n",
      "Epoch 30/50\n",
      "235/235 [==============================] - 1s 6ms/step - loss: 0.0922 - val_loss: 0.0911\n",
      "Epoch 31/50\n",
      "235/235 [==============================] - 1s 4ms/step - loss: 0.0922 - val_loss: 0.0912\n",
      "Epoch 32/50\n",
      "235/235 [==============================] - 1s 5ms/step - loss: 0.0922 - val_loss: 0.0911\n",
      "Epoch 33/50\n",
      "235/235 [==============================] - 1s 5ms/step - loss: 0.0922 - val_loss: 0.0912\n",
      "Epoch 34/50\n",
      "235/235 [==============================] - 2s 7ms/step - loss: 0.0922 - val_loss: 0.0912\n",
      "Epoch 35/50\n",
      "235/235 [==============================] - 2s 7ms/step - loss: 0.0922 - val_loss: 0.0912\n",
      "Epoch 36/50\n",
      "235/235 [==============================] - 2s 7ms/step - loss: 0.0922 - val_loss: 0.0912\n",
      "Epoch 37/50\n",
      "235/235 [==============================] - 1s 6ms/step - loss: 0.0922 - val_loss: 0.0912\n",
      "Epoch 38/50\n",
      "235/235 [==============================] - 1s 4ms/step - loss: 0.0922 - val_loss: 0.0911\n",
      "Epoch 39/50\n",
      "235/235 [==============================] - 1s 4ms/step - loss: 0.0922 - val_loss: 0.0912\n",
      "Epoch 40/50\n",
      "235/235 [==============================] - 1s 5ms/step - loss: 0.0922 - val_loss: 0.0911\n",
      "Epoch 41/50\n",
      "235/235 [==============================] - 1s 5ms/step - loss: 0.0922 - val_loss: 0.0911\n",
      "Epoch 42/50\n",
      "235/235 [==============================] - 2s 7ms/step - loss: 0.0922 - val_loss: 0.0911\n",
      "Epoch 43/50\n",
      "235/235 [==============================] - 2s 7ms/step - loss: 0.0922 - val_loss: 0.0911\n",
      "Epoch 44/50\n",
      "235/235 [==============================] - 2s 8ms/step - loss: 0.0922 - val_loss: 0.0912\n",
      "Epoch 45/50\n",
      "235/235 [==============================] - 1s 4ms/step - loss: 0.0922 - val_loss: 0.0911\n",
      "Epoch 46/50\n",
      "235/235 [==============================] - 1s 4ms/step - loss: 0.0922 - val_loss: 0.0912\n",
      "Epoch 47/50\n",
      "235/235 [==============================] - 1s 5ms/step - loss: 0.0922 - val_loss: 0.0911\n",
      "Epoch 48/50\n",
      "235/235 [==============================] - 1s 5ms/step - loss: 0.0922 - val_loss: 0.0911\n",
      "Epoch 49/50\n",
      "235/235 [==============================] - 1s 5ms/step - loss: 0.0922 - val_loss: 0.0911\n",
      "Epoch 50/50\n",
      "235/235 [==============================] - 2s 7ms/step - loss: 0.0921 - val_loss: 0.0911\n"
     ]
    },
    {
     "data": {
      "text/plain": [
       "<keras.callbacks.History at 0x1343cf90640>"
      ]
     },
     "execution_count": 19,
     "metadata": {},
     "output_type": "execute_result"
    }
   ],
   "source": [
    "autoencoder.fit(x_train, x_train, epochs = 50, batch_size=256, shuffle = True ,\n",
    "validation_data=(x_test, x_test)) "
   ]
  },
  {
   "cell_type": "code",
   "execution_count": null,
   "id": "9ef5c243",
   "metadata": {},
   "outputs": [],
   "source": [
    "decoded_imgs = autoencoder.predict(x_test)"
   ]
  },
  {
   "cell_type": "code",
   "execution_count": null,
   "id": "ad89019c",
   "metadata": {},
   "outputs": [],
   "source": [
    "n = 10 # how many digits we will display\n",
    "plt.figure(figsize=(20, 4))\n",
    "for i in range(1, n):\n",
    "    # display original\n",
    "    ax = plt.subplot(2, n, i)\n",
    "    plt.imshow(x_test[i].reshape(28, 28))\n",
    "    plt.gray()\n",
    "    ax.get_xaxis().set_visible(False)\n",
    "    ax.get_yaxis().set_visible(False)\n",
    "    # display reconstruction\n",
    "    ax = plt.subplot(2, n, i + n)\n",
    "    plt.imshow(decoded_imgs[i].reshape(28, 28))\n",
    "    plt.gray()\n",
    "    ax.get_xaxis().set_visible(False)\n",
    "    ax.get_yaxis().set_visible(False)\n",
    "plt.show()"
   ]
  }
 ],
 "metadata": {
  "kernelspec": {
   "display_name": "Python 3",
   "language": "python",
   "name": "python3"
  },
  "language_info": {
   "codemirror_mode": {
    "name": "ipython",
    "version": 3
   },
   "file_extension": ".py",
   "mimetype": "text/x-python",
   "name": "python",
   "nbconvert_exporter": "python",
   "pygments_lexer": "ipython3",
   "version": "3.9.2"
  }
 },
 "nbformat": 4,
 "nbformat_minor": 5
}
